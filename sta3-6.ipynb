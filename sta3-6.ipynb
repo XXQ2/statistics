{
 "cells": [
  {
   "cell_type": "code",
   "execution_count": 23,
   "metadata": {
    "collapsed": true
   },
   "outputs": [],
   "source": [
    "import numpy as np\n",
    "import pandas as pd\n",
    "import scipy as sp\n",
    "from scipy import stats\n",
    "\n",
    "from matplotlib import pyplot as plt\n",
    "import seaborn as sns\n",
    "sns.set()\n",
    "\n",
    "%precision 3\n",
    "%matplotlib inline"
   ]
  },
  {
   "cell_type": "code",
   "execution_count": 24,
   "metadata": {},
   "outputs": [],
   "source": [
    "# === 確率密度 ===\n",
    "# 勉強のため便利関数を使わずにコードで書いていきます\n",
    "\n",
    "# 円周率\n",
    "pi = sp.pi\n",
    "\n",
    "# e (自然対数の底)\n",
    "e = sp.exp(1)\n",
    "\n",
    "# 確率変数、平均、標準偏差のセット\n",
    "x = 3\n",
    "mu = 4\n",
    "sigma = 0.8"
   ]
  },
  {
   "cell_type": "code",
   "execution_count": 25,
   "metadata": {},
   "outputs": [
    {
     "data": {
      "text/plain": [
       "0.228"
      ]
     },
     "execution_count": 25,
     "metadata": {},
     "output_type": "execute_result"
    }
   ],
   "source": [
    "# 確率密度の計算コード\n",
    "1 / (sp.sqrt(2 * sp.pi * sigma ** 2)) * sp.exp(- ((x - mu)**2) / (2 * sigma**2))"
   ]
  },
  {
   "cell_type": "code",
   "execution_count": 26,
   "metadata": {},
   "outputs": [
    {
     "data": {
      "text/plain": [
       "0.228"
      ]
     },
     "execution_count": 26,
     "metadata": {},
     "output_type": "execute_result"
    }
   ],
   "source": [
    "# 便利関数を使うと\n",
    "stats.norm.pdf(loc = 4, scale = 0.8, x = 3)"
   ]
  },
  {
   "cell_type": "code",
   "execution_count": 27,
   "metadata": {},
   "outputs": [
    {
     "data": {
      "text/plain": [
       "0.228"
      ]
     },
     "execution_count": 27,
     "metadata": {},
     "output_type": "execute_result"
    }
   ],
   "source": [
    "# 正規分布のインスタンスを生成してからでも結果は同じです\n",
    "norm_dist = stats.norm(loc = 4, scale = 0.8)\n",
    "norm_dist.pdf(x = 3)"
   ]
  },
  {
   "cell_type": "code",
   "execution_count": 28,
   "metadata": {},
   "outputs": [
    {
     "data": {
      "text/plain": [
       "[<matplotlib.lines.Line2D at 0x1a0b0780f0>]"
      ]
     },
     "execution_count": 28,
     "metadata": {},
     "output_type": "execute_result"
    },
    {
     "data": {
      "image/png": "[encoded data removed]",
      "text/plain": [
       "<matplotlib.figure.Figure at 0x1a0a67c940>"
      ]
     },
     "metadata": {},
     "output_type": "display_data"
    }
   ],
   "source": [
    "# 確率密度を図示\n",
    "x_plot = np.arange(start = 1, stop = 7.1, step = 0.1)\n",
    "plt.plot(x_plot,\n",
    "                stats.norm.pdf(x = x_plot, loc = 4, scale = 0.8))"
   ]
  },
  {
   "cell_type": "code",
   "execution_count": null,
   "metadata": {
    "collapsed": true
   },
   "outputs": [],
   "source": []
  },
  {
   "cell_type": "code",
   "execution_count": 29,
   "metadata": {},
   "outputs": [
    {
     "data": {
      "text/plain": [
       "array([ 5.299,  3.511,  3.577, ...,  4.065,  4.275,  3.402])"
      ]
     },
     "execution_count": 29,
     "metadata": {},
     "output_type": "execute_result"
    }
   ],
   "source": [
    "# === 標本がある値以下になる確率 ===\n",
    "\n",
    "# この場合「ある値いかになったデータの個数　/ サンプルサイズ」を計算すれば良いですね\n",
    "# まずは母集団分布が　N(x | 4, 0.8**2) である母集団からの標本抽出シミュレーションを実行します（サンプルサイズ=100000）\n",
    "\n",
    "np.random.seed(1)\n",
    "simulated_sample = stats.norm.rvs(loc = 4, scale = 0.8, size = 100000)\n",
    "simulated_sample "
   ]
  },
  {
   "cell_type": "code",
   "execution_count": 30,
   "metadata": {},
   "outputs": [
    {
     "data": {
      "text/plain": [
       "10371"
      ]
     },
     "execution_count": 30,
     "metadata": {},
     "output_type": "execute_result"
    }
   ],
   "source": [
    "# ３以下となるデータの個数は以下のように取れます\n",
    "sp.sum(simulated_sample <= 3)"
   ]
  },
  {
   "cell_type": "code",
   "execution_count": 35,
   "metadata": {},
   "outputs": [
    {
     "data": {
      "text/plain": [
       "0.104"
      ]
     },
     "execution_count": 35,
     "metadata": {},
     "output_type": "execute_result"
    }
   ],
   "source": [
    "# サンプルサイズで割ります。およそ１０％となりました。\n",
    "sp.sum(simulated_sample <= 3) / len(simulated_sample) # 母数がsp.sum(simulated_sample)でないことに注意"
   ]
  },
  {
   "cell_type": "code",
   "execution_count": null,
   "metadata": {
    "collapsed": true
   },
   "outputs": [],
   "source": []
  },
  {
   "cell_type": "code",
   "execution_count": 38,
   "metadata": {},
   "outputs": [
    {
     "data": {
      "text/plain": [
       "0.106"
      ]
     },
     "execution_count": 38,
     "metadata": {},
     "output_type": "execute_result"
    }
   ],
   "source": [
    "# === 累積分布関数 ===\n",
    "# 平たく言うと「ある値以下となる確率を計算してくれる」確率を計算してくれるものです。\n",
    "# これを使うと、上でやったようにわざわざ数え上げる必要はありません\n",
    "\n",
    "stats.norm.cdf(loc = 4, scale = 0.8, x = 3)"
   ]
  },
  {
   "cell_type": "code",
   "execution_count": 41,
   "metadata": {},
   "outputs": [
    {
     "data": {
      "text/plain": [
       "0.500"
      ]
     },
     "execution_count": 41,
     "metadata": {},
     "output_type": "execute_result"
    }
   ],
   "source": [
    "# 正規分布なので平均値以下は５０％になる\n",
    "stats.norm.cdf(loc = 4, scale = 0.8, x = 4)\n",
    "\n",
    "# データを数え上げることなく積分計算により確率を簡単に計算することができるのが「母集団分布に正規分布を仮定した」ことのメリットです"
   ]
  },
  {
   "cell_type": "code",
   "execution_count": null,
   "metadata": {
    "collapsed": true
   },
   "outputs": [],
   "source": []
  },
  {
   "cell_type": "code",
   "execution_count": 43,
   "metadata": {},
   "outputs": [
    {
     "data": {
      "text/plain": [
       "2.432"
      ]
     },
     "execution_count": 43,
     "metadata": {},
     "output_type": "execute_result"
    }
   ],
   "source": [
    "# === パーセント点 ===\n",
    "\n",
    "# パーセント点とは「ある確率になる基準値」のことを指します\n",
    "\n",
    "#母集団分布が N( x | 4, 0.8**2 ) であるときに「下側確率が２．５％」となるパーセント点を求めます\n",
    "stats.norm.ppf(loc = 4, scale = 0.8, q = 0.025)"
   ]
  },
  {
   "cell_type": "code",
   "execution_count": 44,
   "metadata": {},
   "outputs": [
    {
     "data": {
      "text/plain": [
       "3.000"
      ]
     },
     "execution_count": 44,
     "metadata": {},
     "output_type": "execute_result"
    }
   ],
   "source": [
    "# 下側確率とパーセント点の関係から、以下の関係が成り立ちます\n",
    "sitagawa = stats.norm.cdf(loc = 4, scale = 0.8, x = 3)\n",
    "stats.norm.ppf(loc = 4, scale = 0.8, q = sitagawa)"
   ]
  },
  {
   "cell_type": "code",
   "execution_count": null,
   "metadata": {
    "collapsed": true
   },
   "outputs": [],
   "source": []
  },
  {
   "cell_type": "code",
   "execution_count": 45,
   "metadata": {
    "collapsed": true
   },
   "outputs": [],
   "source": [
    "np.random.seed(1)\n",
    "\n",
    "# y値を格納する入れ物\n",
    "t_value_array = np.zeros(10000)\n",
    "\n",
    "# 正規分布クラスのインスタンス\n",
    "norm_dist = stats.norm(loc = 4, scale = 0.8)\n",
    "\n",
    "# シミュレーションの実行\n",
    "for i in range(0, 10000):\n",
    "    sample = norm_dist.rvs(size = 10)\n",
    "    sample_mean = sp.mean(sample)\n",
    "    sample_std = sp.std(sample, ddof = 1)\n",
    "    sample_se = sample_std / sp.sqrt(len(sample))\n",
    "    t_value_array[i] = (sample_mean - 4) / sample_se\n",
    "    "
   ]
  },
  {
   "cell_type": "code",
   "execution_count": 46,
   "metadata": {},
   "outputs": [
    {
     "data": {
      "text/plain": [
       "[<matplotlib.lines.Line2D at 0x1a0b05a080>]"
      ]
     },
     "execution_count": 46,
     "metadata": {},
     "output_type": "execute_result"
    },
    {
     "data": {
      "image/png": "[encoded data removed]",
      "text/plain": [
       "<matplotlib.figure.Figure at 0x1a0afb2320>"
      ]
     },
     "metadata": {},
     "output_type": "display_data"
    }
   ],
   "source": [
    "# t値のヒストグラム\n",
    "sns.distplot(t_value_array)\n",
    "# 標準正規分布の確率密度\n",
    "x = np.arange(start = -8, stop = 8.1, step = 0.1)\n",
    "plt.plot(x, stats.norm.pdf(x = x), linestyle = 'dotted')"
   ]
  },
  {
   "cell_type": "code",
   "execution_count": 57,
   "metadata": {},
   "outputs": [
    {
     "data": {
      "text/plain": [
       "3.751"
      ]
     },
     "execution_count": 57,
     "metadata": {},
     "output_type": "execute_result"
    }
   ],
   "source": [
    "sp.mean(stats.norm.rvs(4, 0.8, 10))"
   ]
  },
  {
   "cell_type": "code",
   "execution_count": null,
   "metadata": {
    "collapsed": true
   },
   "outputs": [],
   "source": []
  },
  {
   "cell_type": "code",
   "execution_count": 58,
   "metadata": {},
   "outputs": [
    {
     "data": {
      "text/plain": [
       "[<matplotlib.lines.Line2D at 0x1a0a997ef0>]"
      ]
     },
     "execution_count": 58,
     "metadata": {},
     "output_type": "execute_result"
    },
    {
     "data": {
      "image/png": "[encoded data removed]",
      "text/plain": [
       "<matplotlib.figure.Figure at 0x1a0a9a0828>"
      ]
     },
     "metadata": {},
     "output_type": "display_data"
    }
   ],
   "source": [
    "# === t分布 ===\n",
    "# t分布の確率密度と標準正規分布の確率密度の図示\n",
    "plt.plot(x, stats.norm.pdf(x = x), linestyle = 'dotted')\n",
    "plt.plot(x, stats.t.pdf(x = x, df = 9))\n",
    "\n",
    "# 実線で示したt分布の方がやや裾が広がっていることが分かります。\n",
    "# つまり平均値と大きく異なるデータが発生しやすいわけです"
   ]
  },
  {
   "cell_type": "code",
   "execution_count": 59,
   "metadata": {},
   "outputs": [
    {
     "data": {
      "text/plain": [
       "[<matplotlib.lines.Line2D at 0x1a1385c898>]"
      ]
     },
     "execution_count": 59,
     "metadata": {},
     "output_type": "execute_result"
    },
    {
     "data": {
      "image/png": "[encoded data removed]",
      "text/plain": [
       "<matplotlib.figure.Figure at 0x1a1385ce80>"
      ]
     },
     "metadata": {},
     "output_type": "display_data"
    }
   ],
   "source": [
    "sns.distplot(t_value_array, norm_hist = True)\n",
    "plt.plot(x, stats.t.pdf(x = x, df = 9), linestyle = 'dotted')"
   ]
  },
  {
   "cell_type": "code",
   "execution_count": null,
   "metadata": {
    "collapsed": true
   },
   "outputs": [],
   "source": []
  }
 ],
 "metadata": {
  "kernelspec": {
   "display_name": "Python 3",
   "language": "python",
   "name": "python3"
  },
  "language_info": {
   "codemirror_mode": {
    "name": "ipython",
    "version": 3
   },
   "file_extension": ".py",
   "mimetype": "text/x-python",
   "name": "python",
   "nbconvert_exporter": "python",
   "pygments_lexer": "ipython3",
   "version": "3.6.2"
  }
 },
 "nbformat": 4,
 "nbformat_minor": 2
}
