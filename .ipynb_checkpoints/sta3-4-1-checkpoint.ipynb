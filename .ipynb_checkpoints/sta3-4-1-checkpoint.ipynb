{
 "cells": [
  {
   "cell_type": "code",
   "execution_count": 1,
   "metadata": {
    "collapsed": true
   },
   "outputs": [],
   "source": [
    "# 数値計算ライブラリ\n",
    "import numpy as np\n",
    "import pandas as pd\n",
    "import scipy as sp\n",
    "from scipy import stats\n",
    "\n",
    "# グラフ描画ライブラリ\n",
    "from matplotlib import pyplot as plt\n",
    "import seaborn as sns\n",
    "sns.set()\n",
    "\n",
    "#表示桁数\n",
    "%precision 3\n",
    "\n",
    "# グラフをJupyter Notebookに表示させるための指定\n",
    "%matplotlib inline"
   ]
  },
  {
   "cell_type": "code",
   "execution_count": 2,
   "metadata": {},
   "outputs": [
    {
     "data": {
      "text/plain": [
       "array([2, 3, 4, 5, 6])"
      ]
     },
     "execution_count": 2,
     "metadata": {},
     "output_type": "execute_result"
    }
   ],
   "source": [
    "test_data_1 = np.array([2, 3, 4, 5, 6])\n",
    "test_data_1"
   ]
  },
  {
   "cell_type": "code",
   "execution_count": 9,
   "metadata": {},
   "outputs": [
    {
     "data": {
      "text/plain": [
       "array([5, 4, 2])"
      ]
     },
     "execution_count": 9,
     "metadata": {},
     "output_type": "execute_result"
    }
   ],
   "source": [
    "# ランダム選択\n",
    "\n",
    "## データからランダムにいくつか選択するにはrandom.choice()を使う\n",
    "## [replace = False]を指定することで同じデータが複数回選択されないようにできる\n",
    "np.random.choice(test_data_1, size = 3, replace = False)"
   ]
  },
  {
   "cell_type": "code",
   "execution_count": 37,
   "metadata": {},
   "outputs": [
    {
     "data": {
      "text/plain": [
       "array([4, 3, 6])"
      ]
     },
     "execution_count": 37,
     "metadata": {},
     "output_type": "execute_result"
    }
   ],
   "source": [
    "## 毎回同じデータがランダムに選ばれるようにする\n",
    "## random.seed()の引数に乱数の種を指定する(指定の種を変えると標本結果が変わる。逆も然り)\n",
    "np.random.seed(1)\n",
    "np.random.choice(test_data_1, size = 3, replace = False)"
   ]
  },
  {
   "cell_type": "code",
   "execution_count": 38,
   "metadata": {},
   "outputs": [
    {
     "data": {
      "text/plain": [
       "4.333"
      ]
     },
     "execution_count": 38,
     "metadata": {},
     "output_type": "execute_result"
    }
   ],
   "source": [
    "# 得られた標本から平均値を計算する\n",
    "np.random.seed(1)\n",
    "sp.mean(\n",
    "    np.random.choice(test_data_1, size = 3, replace = False)\n",
    ")"
   ]
  },
  {
   "cell_type": "code",
   "execution_count": 39,
   "metadata": {
    "collapsed": true
   },
   "outputs": [],
   "source": [
    "# === 用語 ===\n",
    "# 復元抽出　・　非復元抽出\n",
    "## 復元抽出　＝　抽出した標本をまた母集団に戻してから再度抽出するサンプリング方法\n",
    "## 非復元抽出　＝　抽出した標本は母集団に戻さないサンプリング方法\n",
    "\n",
    "##pythonにおいて「replace = False」と指定することで非復元抽出にしていました"
   ]
  },
  {
   "cell_type": "code",
   "execution_count": 42,
   "metadata": {},
   "outputs": [
    {
     "data": {
      "text/plain": [
       "0    5.297442\n",
       "1    3.505566\n",
       "2    3.572546\n",
       "3    3.135979\n",
       "4    4.689275\n",
       "Name: length, dtype: float64"
      ]
     },
     "execution_count": 42,
     "metadata": {},
     "output_type": "execute_result"
    }
   ],
   "source": [
    "# たくさんの魚がいる湖からの標本抽出\n",
    "# 架空の魚の体調組成データを読み込み\n",
    "# 体長(\"length\")の１列しかないデータなので明示的に列を指定してシリーズ形式として読み込みます\n",
    "fish_100000 = pd.read_csv('../statistics_python/3-4-1-fish_length_100000.csv')[\"length\"]\n",
    "fish_100000.head()"
   ]
  },
  {
   "cell_type": "code",
   "execution_count": 43,
   "metadata": {},
   "outputs": [
    {
     "data": {
      "text/plain": [
       "array([ 4.091,  5.465,  3.426,  4.287,  4.244,  4.282,  4.29 ,  5.087,\n",
       "        2.769,  5.296])"
      ]
     },
     "execution_count": 43,
     "metadata": {},
     "output_type": "execute_result"
    }
   ],
   "source": [
    "# 標本抽出　（10尾のサンプリング　）\n",
    "sampling_result = np.random.choice(fish_100000, size = 10, replace = False)\n",
    "sampling_result"
   ]
  },
  {
   "cell_type": "code",
   "execution_count": 49,
   "metadata": {},
   "outputs": [
    {
     "data": {
      "text/plain": [
       "4.324"
      ]
     },
     "execution_count": 49,
     "metadata": {},
     "output_type": "execute_result"
    }
   ],
   "source": [
    "#　標本平均を計算\n",
    "sp.mean(sampling_result)"
   ]
  },
  {
   "cell_type": "code",
   "execution_count": 50,
   "metadata": {},
   "outputs": [
    {
     "data": {
      "text/plain": [
       "4.000"
      ]
     },
     "execution_count": 50,
     "metadata": {},
     "output_type": "execute_result"
    }
   ],
   "source": [
    "# 母集団分布\n",
    "# 母集団の確認をしていきます\n",
    "\n",
    "##母集団の平均（　母平均　）\n",
    "sp.mean(fish_100000)"
   ]
  },
  {
   "cell_type": "code",
   "execution_count": 51,
   "metadata": {},
   "outputs": [
    {
     "data": {
      "text/plain": [
       "0.800"
      ]
     },
     "execution_count": 51,
     "metadata": {},
     "output_type": "execute_result"
    }
   ],
   "source": [
    "## 母集団の標準偏差（　母標準偏差　）\n",
    "sp.std(fish_100000, ddof = 0)"
   ]
  },
  {
   "cell_type": "code",
   "execution_count": 52,
   "metadata": {},
   "outputs": [
    {
     "data": {
      "text/plain": [
       "0.640"
      ]
     },
     "execution_count": 52,
     "metadata": {},
     "output_type": "execute_result"
    }
   ],
   "source": [
    "## 母分散\n",
    "sp.var(fish_100000, ddof = 0)"
   ]
  },
  {
   "cell_type": "code",
   "execution_count": 53,
   "metadata": {},
   "outputs": [
    {
     "data": {
      "text/plain": [
       "<matplotlib.axes._subplots.AxesSubplot at 0x1a158034a8>"
      ]
     },
     "execution_count": 53,
     "metadata": {},
     "output_type": "execute_result"
    },
    {
     "data": {
      "image/png": "[encoded data removed]",
      "text/plain": [
       "<matplotlib.figure.Figure at 0x1a157e1588>"
      ]
     },
     "metadata": {},
     "output_type": "display_data"
    }
   ],
   "source": [
    "## 母集団のヒストグラム\n",
    "sns.distplot(fish_100000, kde = False)"
   ]
  },
  {
   "cell_type": "code",
   "execution_count": 54,
   "metadata": {
    "collapsed": true
   },
   "outputs": [],
   "source": [
    "## 考察\n",
    "\n",
    "### 体長の平均値（４センチ）を中心として左右対称な度数分布となっています\n",
    "\n",
    "### 少し想像力を働かせ母集団の確率分布は「平均４、　分散０．６４の正規分布」として表現できるのではないかと仮定します\n",
    "### この仮説を置くことで（母集団の全体調査をすることなく）母集団の特性について議論しやすくなります。"
   ]
  },
  {
   "cell_type": "code",
   "execution_count": 55,
   "metadata": {},
   "outputs": [
    {
     "data": {
      "text/plain": [
       "array([ 1. ,  1.1,  1.2,  1.3,  1.4,  1.5,  1.6,  1.7,  1.8,  1.9,  2. ,\n",
       "        2.1,  2.2,  2.3,  2.4,  2.5,  2.6,  2.7,  2.8,  2.9,  3. ,  3.1,\n",
       "        3.2,  3.3,  3.4,  3.5,  3.6,  3.7,  3.8,  3.9,  4. ,  4.1,  4.2,\n",
       "        4.3,  4.4,  4.5,  4.6,  4.7,  4.8,  4.9,  5. ,  5.1,  5.2,  5.3,\n",
       "        5.4,  5.5,  5.6,  5.7,  5.8,  5.9,  6. ,  6.1,  6.2,  6.3,  6.4,\n",
       "        6.5,  6.6,  6.7,  6.8,  6.9,  7. ])"
      ]
     },
     "execution_count": 55,
     "metadata": {},
     "output_type": "execute_result"
    }
   ],
   "source": [
    "# 母集団分布と正規分布の確率密度関数の比較\n",
    "# 母集団のヒストグラムと、「平均４、分散０．６４の正規分布」の確率密度を比較する\n",
    "\n",
    "## 「平均４、分散０．６４の正規分布」の確率密度を１〜７の範囲で図示してみます\n",
    "### ますは１〜７までを０．１区切りで分けた等差数列を用意\n",
    "x = np.arange(start = 1, stop = 7.1, step = 0.1)\n",
    "x"
   ]
  },
  {
   "cell_type": "code",
   "execution_count": 56,
   "metadata": {},
   "outputs": [
    {
     "data": {
      "text/plain": [
       "array([  4.407e-04,   6.988e-04,   1.091e-03,   1.676e-03,   2.536e-03,\n",
       "         3.778e-03,   5.540e-03,   7.998e-03,   1.137e-02,   1.591e-02,\n",
       "         2.191e-02,   2.971e-02,   3.967e-02,   5.215e-02,   6.749e-02,\n",
       "         8.598e-02,   1.078e-01,   1.332e-01,   1.619e-01,   1.938e-01,\n",
       "         2.283e-01,   2.648e-01,   3.025e-01,   3.401e-01,   3.764e-01,\n",
       "         4.102e-01,   4.401e-01,   4.648e-01,   4.833e-01,   4.948e-01,\n",
       "         4.987e-01,   4.948e-01,   4.833e-01,   4.648e-01,   4.401e-01,\n",
       "         4.102e-01,   3.764e-01,   3.401e-01,   3.025e-01,   2.648e-01,\n",
       "         2.283e-01,   1.938e-01,   1.619e-01,   1.332e-01,   1.078e-01,\n",
       "         8.598e-02,   6.749e-02,   5.215e-02,   3.967e-02,   2.971e-02,\n",
       "         2.191e-02,   1.591e-02,   1.137e-02,   7.998e-03,   5.540e-03,\n",
       "         3.778e-03,   2.536e-03,   1.676e-03,   1.091e-03,   6.988e-04,\n",
       "         4.407e-04])"
      ]
     },
     "execution_count": 56,
     "metadata": {},
     "output_type": "execute_result"
    }
   ],
   "source": [
    "### 確率密度はstats.norm.pdf関数を用いて計算できます\n",
    "### 引数のlocが平均値で、scaleが標準偏差です\n",
    "stats.norm.pdf(x = x, loc = 4, scale = 0.8)"
   ]
  },
  {
   "cell_type": "code",
   "execution_count": 58,
   "metadata": {},
   "outputs": [
    {
     "data": {
      "text/plain": [
       "[<matplotlib.lines.Line2D at 0x1a16ce65c0>]"
      ]
     },
     "execution_count": 58,
     "metadata": {},
     "output_type": "execute_result"
    },
    {
     "data": {
      "image/png": "[encoded data removed]",
      "text/plain": [
       "<matplotlib.figure.Figure at 0x1a1653ea90>"
      ]
     },
     "metadata": {},
     "output_type": "display_data"
    }
   ],
   "source": [
    "### 確率密度を図示します\n",
    "plt.plot(x, stats.norm.pdf(x = x, loc = 4, scale = 0.8))"
   ]
  },
  {
   "cell_type": "code",
   "execution_count": 62,
   "metadata": {},
   "outputs": [
    {
     "data": {
      "text/plain": [
       "[<matplotlib.lines.Line2D at 0x1a1f8e0c18>]"
      ]
     },
     "execution_count": 62,
     "metadata": {},
     "output_type": "execute_result"
    },
    {
     "data": {
      "image/png": "[encoded data removed]",
      "text/plain": [
       "<matplotlib.figure.Figure at 0x1a1f8e0d68>"
      ]
     },
     "metadata": {},
     "output_type": "display_data"
    }
   ],
   "source": [
    "## 続いて正規分布の確率密度と母集団のヒストグラムを重ねます\n",
    "sns.distplot(fish_100000, kde = False, norm_hist = True)\n",
    "plt.plot(x, stats.norm.pdf(x = x, loc = 4, scale = 0.8))"
   ]
  },
  {
   "cell_type": "code",
   "execution_count": 63,
   "metadata": {
    "collapsed": true
   },
   "outputs": [],
   "source": [
    "## 考察\n",
    "\n",
    "### sns.distplotにおいてnorm_hist=Trueとすることで面積が１であるヒストグラムとなります\n",
    "\n",
    "### 正規分布の確率密度と母集団のヒストグラムが極めてよく一致していることがわかります\n",
    "### 母集団分布は「平均４、分散０．６４の正規分布」とみなしても大きなズレはなさそうです"
   ]
  },
  {
   "cell_type": "code",
   "execution_count": null,
   "metadata": {
    "collapsed": true
   },
   "outputs": [],
   "source": []
  },
  {
   "cell_type": "code",
   "execution_count": 64,
   "metadata": {
    "collapsed": true
   },
   "outputs": [],
   "source": [
    "# 標本が得られるプロセスの抽象化\n",
    "\n",
    "## [母集団分布は「平均４、分散０．６４の正規分布」とみなすことができる]　⇦　これはすなわち、\n",
    "## 母集団からの標本抽出は、正規分布に従う乱数を発生させることとほぼ同じだとみなすことができるということです\n",
    "\n",
    "## 今までは母集団そのものとしてfish_100000を用いて、ここからrandom.choice関数を使っていましたが\n",
    "## ここからは最初から正規分布に従う乱数を発生させる関数を使用します。それがstats.norm.rvs関数です"
   ]
  },
  {
   "cell_type": "code",
   "execution_count": 67,
   "metadata": {},
   "outputs": [],
   "source": [
    "# stats.norm.rvs関数にはloc(平均), scale(標準偏差), size(取得するサンプルサイズ)の３つを指定します\n",
    "sampling_norm = stats.norm.rvs(\n",
    "                                loc = 4, scale = 0.8, size = 10000)"
   ]
  },
  {
   "cell_type": "code",
   "execution_count": 68,
   "metadata": {},
   "outputs": [
    {
     "data": {
      "text/plain": [
       "3.994"
      ]
     },
     "execution_count": 68,
     "metadata": {},
     "output_type": "execute_result"
    }
   ],
   "source": [
    "# 標本平均を求めることも簡単にできます\n",
    "sp.mean(sampling_norm)"
   ]
  },
  {
   "cell_type": "code",
   "execution_count": 69,
   "metadata": {},
   "outputs": [
    {
     "data": {
      "text/plain": [
       "<matplotlib.axes._subplots.AxesSubplot at 0x1a166d3da0>"
      ]
     },
     "execution_count": 69,
     "metadata": {},
     "output_type": "execute_result"
    },
    {
     "data": {
      "image/png": "[encoded data removed]",
      "text/plain": [
       "<matplotlib.figure.Figure at 0x1a1fb48e80>"
      ]
     },
     "metadata": {},
     "output_type": "display_data"
    }
   ],
   "source": [
    "# stats.norm.rvs関数を使った正規乱数シミュレーションの生成結果をヒストグラムで図示する\n",
    "sns.distplot(sampling_norm, kde = False)"
   ]
  },
  {
   "cell_type": "code",
   "execution_count": null,
   "metadata": {
    "collapsed": true
   },
   "outputs": [],
   "source": []
  }
 ],
 "metadata": {
  "kernelspec": {
   "display_name": "Python 3",
   "language": "python",
   "name": "python3"
  },
  "language_info": {
   "codemirror_mode": {
    "name": "ipython",
    "version": 3
   },
   "file_extension": ".py",
   "mimetype": "text/x-python",
   "name": "python",
   "nbconvert_exporter": "python",
   "pygments_lexer": "ipython3",
   "version": "3.6.2"
  }
 },
 "nbformat": 4,
 "nbformat_minor": 2
}
