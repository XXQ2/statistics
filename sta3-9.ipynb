{
 "cells": [
  {
   "cell_type": "code",
   "execution_count": 1,
   "metadata": {
    "collapsed": true
   },
   "outputs": [],
   "source": [
    "# === 平均値の差の検定　===\n",
    "\n",
    "#2群のデータに対する検定"
   ]
  },
  {
   "cell_type": "code",
   "execution_count": 3,
   "metadata": {
    "collapsed": true
   },
   "outputs": [],
   "source": [
    "import numpy as np\n",
    "import pandas as pd\n",
    "import scipy as sp\n",
    "from scipy import stats\n",
    "\n",
    "from matplotlib import pyplot as plt\n",
    "import seaborn as sns\n",
    "sns.set()\n",
    "\n",
    "%precision 3\n",
    "%matplotlib inline"
   ]
  },
  {
   "cell_type": "code",
   "execution_count": 4,
   "metadata": {},
   "outputs": [
    {
     "name": "stdout",
     "output_type": "stream",
     "text": [
      "  person medicine  body_temperature\n",
      "0      A   before              36.2\n",
      "1      B   before              36.2\n",
      "2      C   before              35.3\n",
      "3      D   before              36.1\n",
      "4      E   before              36.1\n",
      "5      A    after              36.8\n",
      "6      B    after              36.1\n",
      "7      C    after              36.8\n",
      "8      D    after              37.1\n",
      "9      E    after              36.9\n"
     ]
    }
   ],
   "source": [
    "# 薬を飲む前と飲んだ後の体温データを読み込み\n",
    "paired_test_data = pd.read_csv('../statistics_python/3-9-1-paired-t-test.csv')\n",
    "print(paired_test_data)"
   ]
  },
  {
   "cell_type": "code",
   "execution_count": null,
   "metadata": {
    "collapsed": true
   },
   "outputs": [],
   "source": [
    "# === 対応のあるt検定 ===\n",
    "\n",
    "# 薬を飲む前後の体温差を計算します。また、t検定は以下の要領で行います。\n",
    "\n",
    "# 帰無仮説：薬を飲む前と後では体温は変わらない\n",
    "# 対立仮説：薬を飲む前と後で体温が異なっている"
   ]
  },
  {
   "cell_type": "code",
   "execution_count": 7,
   "metadata": {},
   "outputs": [
    {
     "data": {
      "text/plain": [
       "array([ 0.6, -0.1,  1.5,  1. ,  0.8])"
      ]
     },
     "execution_count": 7,
     "metadata": {},
     "output_type": "execute_result"
    }
   ],
   "source": [
    "# シリーズ型のままだと計算がしにくいのでアレイ型に直す処理を入れています。\n",
    "\n",
    "before = paired_test_data.query('medicine == \"before\"')[\"body_temperature\"]\n",
    "after = paired_test_data.query('medicine == \"after\"')[\"body_temperature\"]\n",
    "\n",
    "before = np.array(before)\n",
    "after = np.array(after)\n",
    "\n",
    "diff = after - before\n",
    "diff"
   ]
  },
  {
   "cell_type": "code",
   "execution_count": 8,
   "metadata": {},
   "outputs": [
    {
     "data": {
      "text/plain": [
       "Ttest_1sampResult(statistic=2.9016934836205959, pvalue=0.044043109730074276)"
      ]
     },
     "execution_count": 8,
     "metadata": {},
     "output_type": "execute_result"
    }
   ],
   "source": [
    "# あとはこの差の平均値が０と異なるかどうかを１群のt検定で調べれば良いです\n",
    "\n",
    "# (標本, 平均値)　仮説として”体温は変わらない”なので平均に０（体温差０）を設定\n",
    "stats.ttest_1samp(diff, 0) "
   ]
  },
  {
   "cell_type": "code",
   "execution_count": 9,
   "metadata": {},
   "outputs": [
    {
     "data": {
      "text/plain": [
       "Ttest_relResult(statistic=2.9016934836205959, pvalue=0.044043109730074276)"
      ]
     },
     "execution_count": 9,
     "metadata": {},
     "output_type": "execute_result"
    }
   ],
   "source": [
    "# stats.test_relを使えばより簡単に検定ができます。\n",
    "\n",
    "stats.ttest_rel(after, before)"
   ]
  },
  {
   "cell_type": "code",
   "execution_count": 10,
   "metadata": {
    "collapsed": true
   },
   "outputs": [],
   "source": [
    "# === 考察 ===\n",
    "\n",
    "# p値が０．０５を下回ったので「薬を飲む前と後で、体温は有意に異なる」と主張できます。"
   ]
  },
  {
   "cell_type": "code",
   "execution_count": null,
   "metadata": {
    "collapsed": true
   },
   "outputs": [],
   "source": []
  },
  {
   "cell_type": "code",
   "execution_count": 11,
   "metadata": {
    "collapsed": true
   },
   "outputs": [],
   "source": [
    "# === 対応のないt検定 ===\n",
    "\n",
    "# 対応のあるt検定では「データの差」を取ってから１群のt検定をかけていました。\n",
    "# 対応のないt検定では「平均値の差」に注目します。\n"
   ]
  },
  {
   "cell_type": "code",
   "execution_count": 13,
   "metadata": {
    "collapsed": true
   },
   "outputs": [],
   "source": [
    "# 計算式\n",
    "\n",
    "# １群のt検定におけるt値の計算式\n",
    "\n",
    "# t値　＝　（標本平均　−　比較対象値） / 標準偏差　÷　sqrt(サンプルサイズ)　＝　（標本平均　−　比較対象値） / 標準誤差\n",
    "\n",
    "\n",
    "# 対応のないt検定のt値の計算式\n",
    "\n",
    "# t　＝　（xの標本平均　ー　yの標本平均） / sqrt(（xの不偏分散 / xのサンプルサイズ）＋（yの不偏分散 / yのサンプルサイズ）)\n"
   ]
  },
  {
   "cell_type": "code",
   "execution_count": 17,
   "metadata": {},
   "outputs": [
    {
     "data": {
      "text/plain": [
       "3.156"
      ]
     },
     "execution_count": 17,
     "metadata": {},
     "output_type": "execute_result"
    }
   ],
   "source": [
    "# 対応のないt検定\n",
    "\n",
    "#　データは「対応のあるt検定」と同じものを使用しますが、もちろんこれは勉強のためです。\n",
    "#　本来はデータに合わせて最適な検定手法を選ぶ必要があるので、対応のないt検定は「対応のないデータ」に適応すべきです。\n",
    "\n",
    "mean_bef = sp.mean(before)\n",
    "mean_aft = sp.mean(after)\n",
    "\n",
    "# 不偏分散\n",
    "sigma_bef = sp.var(before, ddof = 1)\n",
    "sigma_aft = sp.var(after, ddof = 1)\n",
    "\n",
    "m = len(before)\n",
    "n = len(after)\n",
    "\n",
    "# t値\n",
    "t_value = (mean_aft - mean_bef) / sp.sqrt((sigma_aft / m + sigma_bef / n))\n",
    "t_value"
   ]
  },
  {
   "cell_type": "code",
   "execution_count": 18,
   "metadata": {},
   "outputs": [
    {
     "data": {
      "text/plain": [
       "Ttest_indResult(statistic=3.1557282344421034, pvalue=0.013484775682079892)"
      ]
     },
     "execution_count": 18,
     "metadata": {},
     "output_type": "execute_result"
    }
   ],
   "source": [
    "# 対応のないt検定はstats.ttest_ind関数を使えば簡単に計算できます。\n",
    "# (equal_var = False)は分散が異なることを仮定したt検定を行うという指定\n",
    "stats.ttest_ind(after, before, equal_var = False)"
   ]
  },
  {
   "cell_type": "code",
   "execution_count": 19,
   "metadata": {
    "collapsed": true
   },
   "outputs": [],
   "source": [
    "# p値の結果が０．０５を下回ったので、やはり有意差があると判断できる結果となりました。\n",
    "# しかし、「対応のあるt検定」のp値の結果と異なっています。\n",
    "# 当たり前ですが検定の手法が変わるとp値も変わるということです。"
   ]
  },
  {
   "cell_type": "code",
   "execution_count": null,
   "metadata": {
    "collapsed": true
   },
   "outputs": [],
   "source": []
  }
 ],
 "metadata": {
  "kernelspec": {
   "display_name": "Python 3",
   "language": "python",
   "name": "python3"
  },
  "language_info": {
   "codemirror_mode": {
    "name": "ipython",
    "version": 3
   },
   "file_extension": ".py",
   "mimetype": "text/x-python",
   "name": "python",
   "nbconvert_exporter": "python",
   "pygments_lexer": "ipython3",
   "version": "3.6.2"
  }
 },
 "nbformat": 4,
 "nbformat_minor": 2
}
