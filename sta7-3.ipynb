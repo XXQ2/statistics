{
 "cells": [
  {
   "cell_type": "code",
   "execution_count": 1,
   "metadata": {
    "collapsed": true
   },
   "outputs": [],
   "source": [
    "# PythonによるRidge回帰・ Lasso回帰\n"
   ]
  },
  {
   "cell_type": "code",
   "execution_count": 41,
   "metadata": {},
   "outputs": [],
   "source": [
    "# linear_modelやsklearnなどをインポート\n",
    "import numpy as np\n",
    "import pandas as pd\n",
    "import scipy as sp\n",
    "from scipy import stats\n",
    "from matplotlib import pyplot as plt\n",
    "import seaborn as sns\n",
    "sns.set()\n",
    "\n",
    "import statsmodels.formula.api as smf\n",
    "import statsmodels.api as sm\n",
    "\n",
    "from sklearn import linear_model\n",
    "\n",
    "%precision 3\n",
    "%matplotlib inline\n"
   ]
  },
  {
   "cell_type": "code",
   "execution_count": 42,
   "metadata": {},
   "outputs": [
    {
     "data": {
      "text/html": [
       "<div>\n",
       "<style>\n",
       "    .dataframe thead tr:only-child th {\n",
       "        text-align: right;\n",
       "    }\n",
       "\n",
       "    .dataframe thead th {\n",
       "        text-align: left;\n",
       "    }\n",
       "\n",
       "    .dataframe tbody tr th {\n",
       "        vertical-align: top;\n",
       "    }\n",
       "</style>\n",
       "<table border=\"1\" class=\"dataframe\">\n",
       "  <thead>\n",
       "    <tr style=\"text-align: right;\">\n",
       "      <th></th>\n",
       "      <th>X_1</th>\n",
       "      <th>X_2</th>\n",
       "      <th>X_3</th>\n",
       "      <th>X_4</th>\n",
       "      <th>X_5</th>\n",
       "      <th>X_6</th>\n",
       "      <th>X_7</th>\n",
       "      <th>X_8</th>\n",
       "      <th>X_9</th>\n",
       "      <th>X_10</th>\n",
       "      <th>...</th>\n",
       "      <th>X_91</th>\n",
       "      <th>X_92</th>\n",
       "      <th>X_93</th>\n",
       "      <th>X_94</th>\n",
       "      <th>X_95</th>\n",
       "      <th>X_96</th>\n",
       "      <th>X_97</th>\n",
       "      <th>X_98</th>\n",
       "      <th>X_99</th>\n",
       "      <th>X_100</th>\n",
       "    </tr>\n",
       "  </thead>\n",
       "  <tbody>\n",
       "    <tr>\n",
       "      <th>0</th>\n",
       "      <td>1.0000</td>\n",
       "      <td>0.5000</td>\n",
       "      <td>0.3333</td>\n",
       "      <td>0.2500</td>\n",
       "      <td>0.2000</td>\n",
       "      <td>0.1667</td>\n",
       "      <td>0.1429</td>\n",
       "      <td>0.1250</td>\n",
       "      <td>0.1111</td>\n",
       "      <td>0.1000</td>\n",
       "      <td>...</td>\n",
       "      <td>0.0110</td>\n",
       "      <td>0.0109</td>\n",
       "      <td>0.0108</td>\n",
       "      <td>0.0106</td>\n",
       "      <td>0.0105</td>\n",
       "      <td>0.0104</td>\n",
       "      <td>0.0103</td>\n",
       "      <td>0.0102</td>\n",
       "      <td>0.0101</td>\n",
       "      <td>0.0100</td>\n",
       "    </tr>\n",
       "    <tr>\n",
       "      <th>1</th>\n",
       "      <td>0.5000</td>\n",
       "      <td>0.3333</td>\n",
       "      <td>0.2500</td>\n",
       "      <td>0.2000</td>\n",
       "      <td>0.1667</td>\n",
       "      <td>0.1429</td>\n",
       "      <td>0.1250</td>\n",
       "      <td>0.1111</td>\n",
       "      <td>0.1000</td>\n",
       "      <td>0.0909</td>\n",
       "      <td>...</td>\n",
       "      <td>0.0109</td>\n",
       "      <td>0.0108</td>\n",
       "      <td>0.0106</td>\n",
       "      <td>0.0105</td>\n",
       "      <td>0.0104</td>\n",
       "      <td>0.0103</td>\n",
       "      <td>0.0102</td>\n",
       "      <td>0.0101</td>\n",
       "      <td>0.0100</td>\n",
       "      <td>0.0099</td>\n",
       "    </tr>\n",
       "    <tr>\n",
       "      <th>2</th>\n",
       "      <td>0.3333</td>\n",
       "      <td>0.2500</td>\n",
       "      <td>0.2000</td>\n",
       "      <td>0.1667</td>\n",
       "      <td>0.1429</td>\n",
       "      <td>0.1250</td>\n",
       "      <td>0.1111</td>\n",
       "      <td>0.1000</td>\n",
       "      <td>0.0909</td>\n",
       "      <td>0.0833</td>\n",
       "      <td>...</td>\n",
       "      <td>0.0108</td>\n",
       "      <td>0.0106</td>\n",
       "      <td>0.0105</td>\n",
       "      <td>0.0104</td>\n",
       "      <td>0.0103</td>\n",
       "      <td>0.0102</td>\n",
       "      <td>0.0101</td>\n",
       "      <td>0.0100</td>\n",
       "      <td>0.0099</td>\n",
       "      <td>0.0098</td>\n",
       "    </tr>\n",
       "  </tbody>\n",
       "</table>\n",
       "<p>3 rows × 100 columns</p>\n",
       "</div>"
      ],
      "text/plain": [
       "      X_1     X_2     X_3     X_4     X_5     X_6     X_7     X_8     X_9  \\\n",
       "0  1.0000  0.5000  0.3333  0.2500  0.2000  0.1667  0.1429  0.1250  0.1111   \n",
       "1  0.5000  0.3333  0.2500  0.2000  0.1667  0.1429  0.1250  0.1111  0.1000   \n",
       "2  0.3333  0.2500  0.2000  0.1667  0.1429  0.1250  0.1111  0.1000  0.0909   \n",
       "\n",
       "     X_10   ...      X_91    X_92    X_93    X_94    X_95    X_96    X_97  \\\n",
       "0  0.1000   ...    0.0110  0.0109  0.0108  0.0106  0.0105  0.0104  0.0103   \n",
       "1  0.0909   ...    0.0109  0.0108  0.0106  0.0105  0.0104  0.0103  0.0102   \n",
       "2  0.0833   ...    0.0108  0.0106  0.0105  0.0104  0.0103  0.0102  0.0101   \n",
       "\n",
       "     X_98    X_99   X_100  \n",
       "0  0.0102  0.0101  0.0100  \n",
       "1  0.0101  0.0100  0.0099  \n",
       "2  0.0100  0.0099  0.0098  \n",
       "\n",
       "[3 rows x 100 columns]"
      ]
     },
     "execution_count": 42,
     "metadata": {},
     "output_type": "execute_result"
    }
   ],
   "source": [
    "# データの読み込み（サイズが１５０で、X_1~X_100まで１００列あります。）\n",
    "X = pd.read_csv('../statistics_python/7-3-1-large-data.csv')\n",
    "X.head(3)"
   ]
  },
  {
   "cell_type": "code",
   "execution_count": 43,
   "metadata": {},
   "outputs": [
    {
     "data": {
      "text/plain": [
       "0.037"
      ]
     },
     "execution_count": 43,
     "metadata": {},
     "output_type": "execute_result"
    }
   ],
   "source": [
    "# 標準化\n",
    "\n",
    "# 標準化は各々の変数から平均値を引いて標準偏差で割るのでした。\n",
    "# こうすることで平均０、標準偏差１になります。まずはX_1に関すて平均値を計算します。\n",
    "sp.mean(X.X_1)"
   ]
  },
  {
   "cell_type": "code",
   "execution_count": 44,
   "metadata": {},
   "outputs": [
    {
     "data": {
      "text/plain": [
       "X_1    0.037272\n",
       "X_2    0.030649\n",
       "X_3    0.027360\n",
       "dtype: float64"
      ]
     },
     "execution_count": 44,
     "metadata": {},
     "output_type": "execute_result"
    }
   ],
   "source": [
    "# しかし全ての説明変数に適用するのは大変です。\n",
    "# axis = 0 と指定すると列単位で平均値を一気に取得してくれます。\n",
    "\n",
    "sp.mean(X, axis = 0).head(3)"
   ]
  },
  {
   "cell_type": "code",
   "execution_count": 45,
   "metadata": {
    "collapsed": true
   },
   "outputs": [],
   "source": [
    "# これを使えば簡単に標準化ができます。\n",
    "\n",
    "X -= sp.mean(X, axis = 0 )\n",
    "X /= sp.std(X, ddof = 1, axis = 0)"
   ]
  },
  {
   "cell_type": "code",
   "execution_count": 46,
   "metadata": {},
   "outputs": [
    {
     "data": {
      "text/plain": [
       "X_1    0.0\n",
       "X_2   -0.0\n",
       "X_3   -0.0\n",
       "dtype: float64"
      ]
     },
     "execution_count": 46,
     "metadata": {},
     "output_type": "execute_result"
    }
   ],
   "source": [
    "# 平均値が０になったことを確認します。\n",
    "sp.mean(X, axis = 0).head(3).round(3)"
   ]
  },
  {
   "cell_type": "code",
   "execution_count": 47,
   "metadata": {},
   "outputs": [
    {
     "data": {
      "text/plain": [
       "X_1    1.0\n",
       "X_2    1.0\n",
       "X_3    1.0\n",
       "dtype: float64"
      ]
     },
     "execution_count": 47,
     "metadata": {},
     "output_type": "execute_result"
    }
   ],
   "source": [
    "# 標準偏差も１になりました。\n",
    "sp.std(X, ddof = 1, axis = 0).head(3)"
   ]
  },
  {
   "cell_type": "code",
   "execution_count": 48,
   "metadata": {
    "collapsed": true
   },
   "outputs": [],
   "source": [
    "# シミュレーションで応答変数を作る\n",
    "\n",
    "# 読み込んだデータには応答変数がありまでんでした。これを今から作ります。\n",
    "# 正しい係数がわかっている状況で、それをちゃんと推定できるかチェックするわけです。\n",
    "\n",
    "# 正しい係数は５であることとして応答変数を作ります。正規分布に従うノイズが入っていることにします。\n",
    "\n",
    "# 正規分布に従うノイズ\n",
    "np.random.seed(1)\n",
    "noise = sp.stats.norm.rvs(loc = 0, scale = 1, size = X.shape[0])\n",
    "\n",
    "# 正しい係数は５として応答変数を作る\n",
    "y = X.X_1 * 5 + noise"
   ]
  },
  {
   "cell_type": "code",
   "execution_count": 49,
   "metadata": {},
   "outputs": [
    {
     "data": {
      "text/plain": [
       "<seaborn.axisgrid.JointGrid at 0x1c2316e518>"
      ]
     },
     "execution_count": 49,
     "metadata": {},
     "output_type": "execute_result"
    },
    {
     "data": {
      "image/png": "[encoded data removed]",
      "text/plain": [
       "<matplotlib.figure.Figure at 0x1c2316ea58>"
      ]
     },
     "metadata": {},
     "output_type": "display_data"
    }
   ],
   "source": [
    "# 応答変数とX_1の関係を図示してみます\n",
    "large_data = pd.concat([pd.DataFrame({\"y\":y}), X], axis = 1)\n",
    "\n",
    "# 散布図の作成\n",
    "sns.jointplot(y = \"y\", x = \"X_1\", data = large_data, color = 'black')"
   ]
  },
  {
   "cell_type": "code",
   "execution_count": 50,
   "metadata": {
    "collapsed": true
   },
   "outputs": [],
   "source": [
    "# 説明変数は仮装データで、０に近いデータがほとんどを占めます。そんな中たまに大きな値が出ます。\n"
   ]
  },
  {
   "cell_type": "code",
   "execution_count": 51,
   "metadata": {},
   "outputs": [
    {
     "data": {
      "text/plain": [
       "X_1     14.755018\n",
       "X_2    -87.462851\n",
       "X_3    211.743136\n",
       "dtype: float64"
      ]
     },
     "execution_count": 51,
     "metadata": {},
     "output_type": "execute_result"
    }
   ],
   "source": [
    "# 普通の最小二乗法を適用する\n",
    "lm_statsmodels = sm.OLS(endog = y, exog = X).fit()\n",
    "lm_statsmodels.params.head(3)"
   ]
  },
  {
   "cell_type": "code",
   "execution_count": 52,
   "metadata": {},
   "outputs": [],
   "source": [
    "# この結果を見ると、かなりおかしな値が推定されてしまっていることがわかります."
   ]
  },
  {
   "cell_type": "code",
   "execution_count": 53,
   "metadata": {},
   "outputs": [
    {
     "data": {
      "text/plain": [
       "array([  1.476e+01,  -8.746e+01,   2.117e+02,  -9.415e+01,  -6.817e+01,\n",
       "        -9.284e+01,   1.761e+00,   8.170e+01,   6.680e+01,   2.788e+01,\n",
       "        -3.288e+01,   6.818e+01,  -1.699e+01,   2.208e+01,  -4.855e+01,\n",
       "        -3.390e+01,  -4.536e+01,   9.728e+00,   2.481e+01,   1.858e+00,\n",
       "         1.599e+00,  -2.838e+01,   6.477e+00,  -5.980e+01,   3.532e+01,\n",
       "        -1.302e+01,   4.108e+01,  -4.303e+01,   5.247e+01,   1.920e+00,\n",
       "         3.342e+01,   8.490e+00,   8.329e+00,  -2.293e+01,  -3.577e+01,\n",
       "        -1.337e+01,   3.178e+01,  -2.018e+01,  -2.654e+01,  -3.523e+01,\n",
       "         1.927e+01,   4.823e+01,  -1.655e+00,   5.749e-01,  -1.893e+01,\n",
       "         7.370e-01,   1.047e+01,  -7.732e+00,  -1.854e+00,  -2.559e-01,\n",
       "        -5.045e+00,  -4.227e+00,   2.523e+01,   1.616e+01,  -1.310e+01,\n",
       "         6.455e+00,  -1.332e+01,  -2.291e+01,  -1.202e+01,   7.745e+00,\n",
       "         1.755e+01,   5.997e+00,   4.648e+00,   4.120e+00,  -1.825e+00,\n",
       "         5.366e+00,   4.546e+00,  -2.598e+00,  -4.091e+00,   7.496e+00,\n",
       "         3.100e+01,   1.530e+01,  -5.323e+00,  -1.509e+01,  -3.801e+00,\n",
       "        -6.584e+00,  -7.203e-02,  -4.237e+00,   3.355e+00,   3.176e+00,\n",
       "         6.025e+00,  -2.422e-01,   2.628e+00,  -2.131e-02,  -8.349e+00,\n",
       "        -5.091e+00,  -5.060e+00,  -4.779e+00,   7.645e+00,   1.797e+00,\n",
       "         4.276e+00,   1.418e-01,   2.800e+00,   3.146e+00,  -5.188e+00,\n",
       "        -2.479e+00,  -1.306e+01,  -5.545e+00,  -2.923e+00,   2.945e+00])"
      ]
     },
     "execution_count": 53,
     "metadata": {},
     "output_type": "execute_result"
    }
   ],
   "source": [
    "# === sklearnによる線形回帰 ===\n",
    "\n",
    "# 正則化の用いたモデルに移る前に、scikit-learnの使い方に慣れる目的でsklearnを使って通常の最小二乗法を用いた正規線形モデルを推定してみます。\n",
    "\n",
    "# どんなモデルを作るかをまずは指定\n",
    "lm_sklearn = linear_model.LinearRegression()\n",
    "\n",
    "# データを指定して、モデルを推定\n",
    "lm_sklearn.fit(X, y)\n",
    "\n",
    "# 指定されたパラメタ(array型)\n",
    "lm_sklearn.coef_"
   ]
  },
  {
   "cell_type": "code",
   "execution_count": null,
   "metadata": {
    "collapsed": true
   },
   "outputs": [],
   "source": []
  },
  {
   "cell_type": "code",
   "execution_count": 54,
   "metadata": {
    "collapsed": true
   },
   "outputs": [],
   "source": [
    "# Ridge回帰　ー　罰則項の影響\n",
    "\n",
    "# 通常の最小二乗法ではうまくいかないことがわかったので正則化を使います。\n",
    "# 正則化において重要なのは正則化の強度 α の決定です。正則化の強度αがもたらす影響を調べるところから進めていきます\n",
    "n_alphas = 50\n",
    "ridge_alphas = np.logspace(-2, 0.7, n_alphas)"
   ]
  },
  {
   "cell_type": "code",
   "execution_count": 55,
   "metadata": {},
   "outputs": [
    {
     "data": {
      "text/plain": [
       "array([-2.   , -1.945, -1.89 , -1.835, -1.78 , -1.724, -1.669, -1.614,\n",
       "       -1.559, -1.504, -1.449, -1.394, -1.339, -1.284, -1.229, -1.173,\n",
       "       -1.118, -1.063, -1.008, -0.953, -0.898, -0.843, -0.788, -0.733,\n",
       "       -0.678, -0.622, -0.567, -0.512, -0.457, -0.402, -0.347, -0.292,\n",
       "       -0.237, -0.182, -0.127, -0.071, -0.016,  0.039,  0.094,  0.149,\n",
       "        0.204,  0.259,  0.314,  0.369,  0.424,  0.48 ,  0.535,  0.59 ,\n",
       "        0.645,  0.7  ])"
      ]
     },
     "execution_count": 55,
     "metadata": {},
     "output_type": "execute_result"
    }
   ],
   "source": [
    "# np.logspace はnp.arangeと似たようなもので、底を１０とした対数を取ると等差数列になります。\n",
    "sp.log10(ridge_alphas)"
   ]
  },
  {
   "cell_type": "code",
   "execution_count": 56,
   "metadata": {
    "collapsed": true
   },
   "outputs": [],
   "source": [
    "# αを50通り変えながら、５０回Ridge回帰を推定します。\n",
    "\n",
    "# 指定された回帰係数を格納するリスト\n",
    "ridge_coefs = []\n",
    "\n",
    "# forループで何度もRidge回帰を推定する\n",
    "for a in ridge_alphas:\n",
    "    ridge = linear_model.Ridge(alpha = a, fit_intercept = False) #(第二引数：　切片を推定しない)\n",
    "    ridge.fit(X, y)\n",
    "    ridge_coefs.append(ridge.coef_)"
   ]
  },
  {
   "cell_type": "code",
   "execution_count": 57,
   "metadata": {},
   "outputs": [
    {
     "data": {
      "text/plain": [
       "(50, 100)"
      ]
     },
     "execution_count": 57,
     "metadata": {},
     "output_type": "execute_result"
    }
   ],
   "source": [
    "# 推定された係数をnumpyアレイに変換します。\n",
    "ridge_coefs = np.array(ridge_coefs)\n",
    "ridge_coefs.shape"
   ]
  },
  {
   "cell_type": "code",
   "execution_count": 58,
   "metadata": {},
   "outputs": [
    {
     "data": {
      "text/plain": [
       "<matplotlib.text.Text at 0x116f99128>"
      ]
     },
     "execution_count": 58,
     "metadata": {},
     "output_type": "execute_result"
    },
    {
     "data": {
      "image/png": "[encoded data removed]",
      "text/plain": [
       "<matplotlib.figure.Figure at 0x1c233b3828>"
      ]
     },
     "metadata": {},
     "output_type": "display_data"
    }
   ],
   "source": [
    "# 結果を見やすくするために、横軸を-log１０(α)に変換した上でプロットします。\n",
    "# このようなグラフをsolution_pathと言います。\n",
    "\n",
    "# αを変換\n",
    "log_alphas = -sp.log10(ridge_alphas)\n",
    "\n",
    "# 横軸に-log10(α)、縦軸に係数をおいた折れ線グラフ\n",
    "plt.plot(log_alphas, ridge_coefs, color = 'black')\n",
    "\n",
    "# 説明変数X_1の係数がわかるように目印を入れる\n",
    "plt.text(max(log_alphas) + 0.1, np.array(ridge_coefs)[0,0], \"X_1\")\n",
    "\n",
    "# x軸の範囲\n",
    "plt.xlim([min(log_alphas) - 0.1, max(log_alphas) + 0.3])\n",
    "\n",
    "# 軸ラベル\n",
    "plt.title(\"Ridge\")\n",
    "plt.xlabel(\"- log10(α)\")\n",
    "plt.ylabel(\"Coefficients\")"
   ]
  },
  {
   "cell_type": "code",
   "execution_count": 59,
   "metadata": {},
   "outputs": [
    {
     "data": {
      "text/plain": [
       "0.237"
      ]
     },
     "execution_count": 59,
     "metadata": {},
     "output_type": "execute_result"
    }
   ],
   "source": [
    "# Ridge回帰 - 最適な正則化の強度の決定 -\n",
    "\n",
    "# αの大きさを決める作業に移ります。クロスバリデーション法を用いて予測精度を評価し、精度がもっとも良くなったαを採用し、モデルを再構築します\n",
    "\n",
    "# CVで最適なαを求める\n",
    "ridge_best = linear_model.RidgeCV(cv = 10, alphas = ridge_alphas, fit_intercept = False)\n",
    "ridge_best.fit(X, y)\n",
    "\n",
    "# 最適な - log10(α)\n",
    "- sp.log10(ridge_best.alpha_)"
   ]
  },
  {
   "cell_type": "code",
   "execution_count": 60,
   "metadata": {},
   "outputs": [
    {
     "data": {
      "text/plain": [
       "0.580"
      ]
     },
     "execution_count": 60,
     "metadata": {},
     "output_type": "execute_result"
    }
   ],
   "source": [
    "# - log10(α) = 0.237 の地点を先ほどのsokution-pathで見ると、X_1以外の説明変数の係数の絶対値が０に近くなっていることがわかります。\n",
    "\n",
    "# 最適なαは以下の通りです\n",
    "ridge_best.alpha_"
   ]
  },
  {
   "cell_type": "code",
   "execution_count": 61,
   "metadata": {},
   "outputs": [
    {
     "data": {
      "text/plain": [
       "array([ 4.463,  1.288,  0.293, -0.091, -0.201, -0.233, -0.215, -0.206,\n",
       "       -0.145, -0.135, -0.155, -0.046, -0.097, -0.017, -0.11 , -0.012,\n",
       "       -0.094,  0.013, -0.018, -0.031,  0.025, -0.029,  0.043, -0.087,\n",
       "        0.127,  0.021,  0.055, -0.077,  0.141, -0.007,  0.099,  0.116,\n",
       "       -0.044,  0.037, -0.034,  0.015,  0.123, -0.171, -0.007, -0.182,\n",
       "        0.09 ,  0.222,  0.035, -0.032, -0.008,  0.025,  0.338, -0.193,\n",
       "       -0.108,  0.212, -0.128, -0.246,  0.249,  0.128, -0.155,  0.27 ,\n",
       "        0.03 , -0.165, -0.178,  0.158, -0.011,  0.013,  0.194,  0.134,\n",
       "       -0.156, -0.018,  0.256,  0.223, -0.185,  0.006,  0.535,  0.181,\n",
       "       -0.348, -0.123,  0.226, -0.043, -0.115, -0.053,  0.209,  0.189,\n",
       "       -0.042, -0.205, -0.099,  0.059, -0.224,  0.15 , -0.039, -0.113,\n",
       "        0.21 ,  0.012,  0.129, -0.032, -0.022, -0.229, -0.198,  0.245,\n",
       "       -0.305, -0.396, -0.163,  0.164])"
      ]
     },
     "execution_count": 61,
     "metadata": {},
     "output_type": "execute_result"
    }
   ],
   "source": [
    "# 指定された係数の一覧は以下の通りです。\n",
    "ridge_best.coef_"
   ]
  },
  {
   "cell_type": "code",
   "execution_count": null,
   "metadata": {
    "collapsed": true
   },
   "outputs": [],
   "source": []
  },
  {
   "cell_type": "code",
   "execution_count": 62,
   "metadata": {
    "collapsed": true
   },
   "outputs": [],
   "source": [
    "# === Lasso回帰 - 罰則項の影響 - ===\n",
    "\n",
    "# 続いてLasso回帰に移ります。\n",
    "# lasso_pathという便利な関数があるのでそれを使います。引数にデータを指定するだけで、αを様々に変えた結果を出力してくれます。\n",
    "\n",
    "lasso_alphas, lasso_coefs, _ = linear_model.lasso_path(X, y, fit_intercept = False)"
   ]
  },
  {
   "cell_type": "code",
   "execution_count": 70,
   "metadata": {},
   "outputs": [
    {
     "data": {
      "text/plain": [
       "<matplotlib.text.Text at 0x1c23f0ef28>"
      ]
     },
     "execution_count": 70,
     "metadata": {},
     "output_type": "execute_result"
    },
    {
     "data": {
      "image/png": "[encoded data removed]",
      "text/plain": [
       "<matplotlib.figure.Figure at 0x1c23f11208>"
      ]
     },
     "metadata": {},
     "output_type": "display_data"
    }
   ],
   "source": [
    "# Ridge回帰と同様にsolution-pathを描きます。\n",
    "# lasso_coefsの並び順がRidge回帰の時と異なるので行列を転置させたりします。\n",
    "\n",
    "# α を変換\n",
    "log_alphas = - sp.log10(lasso_alphas)\n",
    "\n",
    "# 横軸に-log10(α),横に係数を置いた折れ線グラス\n",
    "plt.plot(log_alphas, lasso_coefs.T, color = \"black\")\n",
    "\n",
    "\n",
    "# 説明変数X_1の係数がわsssssssssかるように目印を置く\n",
    "plt.text(max(log_alphas) + 0.1, lasso_coefs[0, -1], \"X_1\")\n",
    "\n",
    "# X軸の範囲\n",
    "plt.xlim([min(log_alphas) - 0.1, max(log_alphas) + 0.3] )\n",
    "\n",
    "# 軸ラベル\n",
    "plt.title(\"Lasso\")\n",
    "plt.xlabel(\"- Log19(alpha)\")\n",
    "plt.ylabel(\"Coefficients\")"
   ]
  },
  {
   "cell_type": "code",
   "execution_count": 71,
   "metadata": {},
   "outputs": [
    {
     "data": {
      "text/plain": [
       "2.301"
      ]
     },
     "execution_count": 71,
     "metadata": {},
     "output_type": "execute_result"
    }
   ],
   "source": [
    "# === Lasso回帰 - 最適な正則化の強度の決定- ===\n",
    "\n",
    "# クロスバリデーション法を応用してαを決定します。\n",
    "\n",
    "# CVで最適なαを求める \n",
    "lasso_best = linear_model.LassoCV(cv = 10, alphas = lasso_alphas, fit_intercept = False)\n",
    "lasso_best.fit(X, y)\n",
    "\n",
    "# 最適な-log(α)\n",
    "-sp.log10(lasso_best.alpha_)"
   ]
  },
  {
   "cell_type": "code",
   "execution_count": 72,
   "metadata": {},
   "outputs": [
    {
     "data": {
      "text/plain": [
       "0.005"
      ]
     },
     "execution_count": 72,
     "metadata": {},
     "output_type": "execute_result"
    }
   ],
   "source": [
    "# 最適なαは以下の通りです\n",
    "lasso_best.alpha_"
   ]
  },
  {
   "cell_type": "code",
   "execution_count": 73,
   "metadata": {},
   "outputs": [
    {
     "data": {
      "text/plain": [
       "array([  5.336e+00,  -0.000e+00,  -0.000e+00,  -3.043e-01,  -4.121e-02,\n",
       "        -0.000e+00,  -0.000e+00,  -0.000e+00,  -0.000e+00,  -0.000e+00,\n",
       "        -0.000e+00,  -0.000e+00,  -0.000e+00,  -0.000e+00,  -0.000e+00,\n",
       "        -0.000e+00,  -0.000e+00,  -0.000e+00,  -0.000e+00,  -0.000e+00,\n",
       "        -0.000e+00,  -0.000e+00,  -0.000e+00,  -0.000e+00,  -0.000e+00,\n",
       "        -0.000e+00,  -0.000e+00,  -0.000e+00,   0.000e+00,  -0.000e+00,\n",
       "         0.000e+00,   0.000e+00,  -0.000e+00,   0.000e+00,   0.000e+00,\n",
       "         0.000e+00,   0.000e+00,  -0.000e+00,   0.000e+00,   0.000e+00,\n",
       "         0.000e+00,   0.000e+00,   0.000e+00,   0.000e+00,   0.000e+00,\n",
       "         0.000e+00,   0.000e+00,   0.000e+00,   0.000e+00,   0.000e+00,\n",
       "         0.000e+00,   0.000e+00,   0.000e+00,   0.000e+00,   0.000e+00,\n",
       "         0.000e+00,   0.000e+00,   0.000e+00,   0.000e+00,   0.000e+00,\n",
       "         0.000e+00,   0.000e+00,   0.000e+00,   0.000e+00,   0.000e+00,\n",
       "         0.000e+00,   0.000e+00,   0.000e+00,   0.000e+00,   0.000e+00,\n",
       "         8.425e-03,   0.000e+00,   0.000e+00,   0.000e+00,   0.000e+00,\n",
       "         0.000e+00,   0.000e+00,   0.000e+00,   0.000e+00,   0.000e+00,\n",
       "         0.000e+00,   0.000e+00,   0.000e+00,   0.000e+00,   0.000e+00,\n",
       "         0.000e+00,   0.000e+00,   0.000e+00,   0.000e+00,   0.000e+00,\n",
       "         0.000e+00,   0.000e+00,   0.000e+00,   0.000e+00,   0.000e+00,\n",
       "         7.192e-04,   0.000e+00,   0.000e+00,   0.000e+00,   0.000e+00])"
      ]
     },
     "execution_count": 73,
     "metadata": {},
     "output_type": "execute_result"
    }
   ],
   "source": [
    "# 推定された係数の一覧は以下の通りです。ほとんどの係数が０になりました。\n",
    "# X_1の係数もおよそ５となりましたので、正しくモデル化出来たと見てよいでしょう。\n",
    "lasso_best.coef_"
   ]
  },
  {
   "cell_type": "code",
   "execution_count": null,
   "metadata": {
    "collapsed": true
   },
   "outputs": [],
   "source": []
  }
 ],
 "metadata": {
  "kernelspec": {
   "display_name": "Python 3",
   "language": "python",
   "name": "python3"
  },
  "language_info": {
   "codemirror_mode": {
    "name": "ipython",
    "version": 3
   },
   "file_extension": ".py",
   "mimetype": "text/x-python",
   "name": "python",
   "nbconvert_exporter": "python",
   "pygments_lexer": "ipython3",
   "version": "3.6.2"
  }
 },
 "nbformat": 4,
 "nbformat_minor": 2
}
